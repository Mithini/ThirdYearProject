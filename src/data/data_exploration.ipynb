{
 "cells": [
  {
   "cell_type": "code",
   "execution_count": 36,
   "id": "initial_id",
   "metadata": {
    "collapsed": true,
    "ExecuteTime": {
     "end_time": "2024-05-13T13:51:58.180451500Z",
     "start_time": "2024-05-13T13:51:58.167743300Z"
    }
   },
   "outputs": [],
   "source": [
    "import pdfplumber\n",
    "import re"
   ]
  },
  {
   "cell_type": "code",
   "execution_count": 37,
   "outputs": [],
   "source": [
    "def extract_text_from_pdf(pdf_path, start_page=47, end_page=69, page_numbers=None):\n",
    "    with pdfplumber.open(pdf_path) as pdf:\n",
    "        text = ''\n",
    "        if page_numbers:  # Extract text from specific page numbers\n",
    "            for page_number in page_numbers:\n",
    "                page = pdf.pages[page_number - 1]\n",
    "                text += page.extract_text()\n",
    "        elif start_page is not None and end_page is not None:  # Extract text from a range of pages\n",
    "            for page_number in range(start_page, end_page + 1):\n",
    "                page = pdf.pages[page_number - 1]\n",
    "                text += page.extract_text()\n",
    "        else:  # Extract text from all pages\n",
    "            for page in pdf.pages:\n",
    "                text += page.extract_text()\n",
    "    return text\n"
   ],
   "metadata": {
    "collapsed": false,
    "ExecuteTime": {
     "end_time": "2024-05-13T13:51:58.181460700Z",
     "start_time": "2024-05-13T13:51:58.173539200Z"
    }
   },
   "id": "a0234d2090719eaa"
  },
  {
   "cell_type": "code",
   "execution_count": 38,
   "outputs": [],
   "source": [
    "def extract_data(text):\n",
    "    sinhala_pattern = r'[\\u0D80-\\u0DFF]+'  # Sinhala Unicode range\n",
    "    tamil_pattern = r'[\\u0B80-\\u0BFF]+'  # Tamil Unicode range\n",
    "    english_pattern = r'[A-Za-z]+'  # English alphabets\n",
    "\n",
    "    sinhala_text = re.findall(sinhala_pattern, text)\n",
    "    tamil_text = re.findall(tamil_pattern, text)\n",
    "    english_text = re.findall(english_pattern, text)\n",
    "\n",
    "    return sinhala_text, tamil_text, english_text"
   ],
   "metadata": {
    "collapsed": false,
    "ExecuteTime": {
     "end_time": "2024-05-13T13:51:58.181460700Z",
     "start_time": "2024-05-13T13:51:58.179061Z"
    }
   },
   "id": "c574826a9b6b9ebf"
  },
  {
   "cell_type": "code",
   "execution_count": 39,
   "outputs": [],
   "source": [
    "# Example usage\n",
    "pdf_path = 'slnb/2020-2029/SLNB 2022-01-12/SLNB-2022-06 V.60 June.pdf'\n",
    "text = extract_text_from_pdf(pdf_path, start_page=47, end_page=51)\n",
    "sinhala_text, tamil_text, english_text = extract_data(text)"
   ],
   "metadata": {
    "collapsed": false,
    "ExecuteTime": {
     "end_time": "2024-05-13T13:51:58.912088100Z",
     "start_time": "2024-05-13T13:51:58.182468900Z"
    }
   },
   "id": "2f5e16e008640cf9"
  },
  {
   "cell_type": "code",
   "execution_count": 40,
   "outputs": [
    {
     "name": "stdout",
     "output_type": "stream",
     "text": [
      "Sinhala Text: []\n",
      "Tamil Text: []\n",
      "English Text: ['SRI', 'LANKA', 'NATIONAL', 'BIBLIOGRAPHY', 'SUBJECT', 'SECTION', 'COMPUTER', 'SCIENCE', 'SOCIAL', 'SCIENCES', 'INFORMATION', 'GENERAL', 'WORKS', 'Communication', 'Mysteries', 'Critical', 'perspectives', 'on', 'open', 'development', 'empirical', 'interrogation', 'of', 'theory', 'Razeen', 'Muhammad', 'construction', 'ed', 'Arul', 'Chib', 'Caitlin', 'M', 'The', 'wonders', 'of', 'the', 'world', 'Muhammad', 'Bentley', 'and', 'Matthew', 'L', 'Smith', 'England', 'Razeen', 'tr', 'by', 'A', 'C', 'M', 'Wabanbey', 'The', 'MIT', 'Press', 'xi', 'p', 'cm', 'Kurunegala', 'Author', 'p', 'The', 'MIT', 'press', 'international', 'development', 'photos', 'cm', 'research', 'centre', 'series', 'Ad', 'Bc', 'Rs', 'NL', 'Ad', 'Bc', 'Unpriced', 'NL', 'ISBN', 'ISBN', 'Curiosities', 'and', 'wonders', 'Economic', 'development', 'Information', 'commons', 'Information', 'society', 'Information', 'technology', 'Social', 'aspects', 'RELIGION', 'Open', 'source', 'software', 'Sri', 'Lanka', 'Standard', 'Institution', 'OTHER', 'RELIGIONS', 'Sri', 'Lanka', 'Sri', 'Lanka', 'Somasundara', 'J', 'W', 'D', 'Up', 'country', 'Tamils', 'charting', 'a', 'new', 'future', 'in', 'The', 'most', 'sacred', 'Sri', 'Pada', 'J', 'W', 'D', 'Sri', 'Lanka', 'ed', 'Daniel', 'Bass', 'and', 'B', 'Somasundara', 'and', 'H', 'M', 'Jayantha', 'Skanthakumar', 'Colombo', 'International', 'Wijeratna', 'tr', 'by', 'Sunil', 'Wijeyesinghe', 'Centre', 'for', 'Ethnic', 'Studies', 'Colombo', 'S', 'Godage', 'p', 'xxi', 'p', 'cm', 'photos', 'cm', 'Ts', 'Cbc', 'Unpriced', 'NL', 'Ad', 'Bc', 'Rs', 'NL', 'ISBN', 'ISBN', 'NA', 'Malaiyaha', 'Tamil', 'Sri', 'Lankan', 'people', 'Adam', 's', 'Peak', 'Sri', 'Lanka', 'Sri', 'Lanka', 'Mountains', 'Sri', 'Lanka', 'Race', 'relations', 'Political', 'aspects', 'Sri', 'Lanka', 'Ethnic', 'relations', 'Sri', 'Lanka', 'Politics', 'and', 'government', 'POLITICAL', 'SCIENCE', 'Sri', 'Lanka', 'Perera', 'L', 'C', 'Facing', 'our', 'own', 'citizens', 'in', 'conflict', 'situations', 'the', 'Southern', 'JVP', 'insurrection', 'L', 'C', 'Perera', 's', 'l', 's', 'n', 'p', 'cm', 'Ad', 'Bc', 'Rs', 'NL', 'ISBN', 'NA', 'Janatha', 'Vimukthi', 'Peramuna', 'Sri', 'Lanka', 'Politics', 'and', 'government', 'ECONOMICS', 'PUBLIC', 'ADMINISTRATION', 'AND', 'MILITARY', 'SCIENCE', 'Organizations', 'Annual', 'reports', 'Sri', 'Lanka', 'Piramal', 'Glass', 'Ceylon', 'PLC', 'Annual', 'report', 'Ratmalana', 'Gamaathige', 'Amarasena', 'Piramal', 'Glass', 'Ceylon', 'PLC', 'Making', 'project', 'administration', 'efficient', 'and', 'p', 'cm', 'effective', 'challenges', 'and', 'good', 'practices', 'Ad', 'Bc', 'Unpriced', 'NL', 'Amarasena', 'Gamaathige', 's', 'l', 'Author', 'NA', 'xxii', 'p', 'cm', 'Ad', 'Bc', 'Rs', 'NL', 'Business', 'enterprises', 'Sri', 'Lanka', 'ISBN', 'Periodicals', 'Economic', 'assistance', 'Sri', 'Lanka', 'Economic', 'development', 'projects', 'Sri', 'Lanka', 'Sri', 'Lanka', 'International', 'economic', 'relations', 'Made', 'in', 'Sri', 'Lanka', 'exporters', 'showcase', 'Colombo', 'Media', 'Services', 'Private', 'Limited', 'p', 'photos', 'x', 'cm', 'Ts', 'Bc', 'Rs', 'NL', 'TECHNOLOGY', 'ISBN', 'MEDICINE', 'AND', 'HEALTH', 'Economic', 'development', 'Pictorial', 'works', 'Review', 'and', 'exercise', 'Sri', 'Lanka', 'Economic', 'conditions', 'Pictorial', 'works', 'Fonseka', 'Palitha', 'Model', 'questions', 'for', 'pharmacists', 'examinations', 'part', 'multiple', 'choice', 'LAW', 'questions', 'Palitha', 'Fonseka', 'Gampaha', 'NPI', 'Publications', 'p', 'cm', 'Lawyers', 'Ad', 'Bc', 'Rs', 'NL', 'ISBN', 'Pursuing', 'a', 'vision', 'of', 'justice', 'essays', 'in', 'honour', 'of', 'Maithri', 'Panagoda', 'ed', 'Senaka', 'Pharmacology', 'Problem', 'exercise', 'etc', 'Weeraratna', 'Colombo', 'Vijitha', 'Yapa', 'Publications', 'xxvii', 'p', 'photos', 'cm', 'Prescription', 'writing', 'Ad', 'Bc', 'Rs', 'NL', 'ISBN', 'Fonseka', 'Palitha', 'Pharmaceutical', 'calculations', 'Palitha', 'Lawyers', 'Sri', 'Lanka', 'Biography', 'Fonseka', 'Gampaha', 'NPI', 'Publications', 'Panagoda', 'Maithri', 'p', 'ill', 'cm', 'Ad', 'Bc', 'Rs', 'NL', 'ISBN', 'Pharmaceutical', 'chemistry', 'Pharmacology', 'Ayurvedic', 'medicine', 'AGRICULTURE', 'AND', 'RELATED', 'TECHNOLOGIES', 'Weerasekera', 'K', 'R', 'Review', 'of', 'Prameha', 'roga', 'in', 'ayurveda', 'Sri', 'Lanka', 'perspective', 'K', 'R', 'Weerasekera', 'Colombo', 'S', 'Godage', 'Myths', 'truths', 'of', 'oil', 'palm', 'a', 'study', 'on', 'p', 'cm', 'Impacts', 'and', 'opportunities', 'of', 'sustainable', 'Ad', 'Bc', 'Rs', 'NL', 'oil', 'palm', 'cultivation', 'in', 'Asia', 'Hong', 'Kong', 'ISBN', 'Solidaridad', 'Network', 'Asia', 'Limited', 'p', 'ill', 'cm', 'Diabetes', 'Ayurvedic', 'treatment', 'Ad', 'Bc', 'Unpriced', 'NL', 'Medicine', 'Ayurvedic', 'Oil', 'palm', 'Sri', 'Lanka', 'Palm', 'oil', 'industry', 'Sri', 'Lanka', 'Medical', 'virology', 'Palm', 'oil', 'Sri', 'Lanka', 'Gunasekera', 'Kamani', 'Basics', 'in', 'virology', 'Kamani', 'Gunasekera', 'THE', 'ARTS', 'Nugegoda', 'Sarasavi', 'Publishers', 'p', 'cm', 'ARCHITECTURE', 'Ad', 'Bc', 'Rs', 'NL', 'ISBN', 'NA', 'Ambience', 'contemporary', 'design', 'January', 'Colombo', 'Media', 'Services', 'Medical', 'virology', 'Private', 'Limited', 'p', 'ill', 'Virology', 'x', 'cm', 'Virus', 'diseases', 'Diagnosis', 'Ts', 'Bc', 'Rs', 'NL', 'Viruses', 'Classification', 'ISBN', 'Architecture', 'Sri', 'Lanka', 'Review', 'and', 'exercise', 'Architecture', 'Sri', 'Lanka', 'Pictorial', 'works', 'Dasanayake', 'Lanka', 'Aid', 'to', 'mcq', 'True', 'False', 'in', 'obstetrics', 'RECREATIONAL', 'AND', 'gynaecology', 'for', 'medical', 'undergraduates', 'PERFORMING', 'ARTS', 'Lanka', 'Dasanayake', 'Nugegoda', 'Sarasavi', 'Publishers', 'p', 'cm', 'Puzzles', 'and', 'puzzle', 'games', 'Ad', 'Bc', 'Rs', 'NL', 'ISBN', 'NA', 'Samarasinghe', 'A', 'Sam', 'Fun', 'with', 'puzzles', 'A', 'Sam', 'Samarasinghe', 'Gynnaecology', 'Problems', 'exercises', 'etc', 'Nugegoda', 'Sarasavi', 'Publishers', 'Obsterics', 'Problems', 'exercises', 'etc', 'p', 'ill', 'cm', 'Ad', 'Bc', 'Rs', 'NL', 'ISBN', 'NA', 'Intelligence', 'tests', 'Puzzles', 'Samarasinghe', 'A', 'Sam', 'I', 'like', 'puzzels', 'A', 'Sam', 'Samarasinghe', 'Nugegoda', 'Sarasavi', 'Publishers', 'p', 'ill', 'cm', 'Ad', 'Bc', 'Rs', 'NL', 'ISBN', 'NA', 'Intelligence', 'tests', 'Puzzles', 'Samarasinghe', 'A', 'Sam', 'Wickramasekara', 'Eshani', 'IQ', 'puzzles', 'A', 'Sam', 'Samarasinghe', 'Dear', 'hearts', 'a', 'collection', 'of', 'poems', 'for', 'life', 'Nugegoda', 'Sarasavi', 'Publishers', 'Eshani', 'Wickramasekara', 's', 'l', 'Author', 'p', 'ill', 'cm', 'p', 'cm', 'Ad', 'Bc', 'Rs', 'NL', 'Ad', 'Bc', 'Unpriced', 'NL', 'ISBN', 'NA', 'ISBN', 'Intelligence', 'tests', 'English', 'poetry', 'Puzzles', 'Fiction', 'Novel', 'Samarasinghe', 'A', 'Sam', 'Jayawardana', 'Tarindi', 'Tricky', 'puzzles', 'A', 'Sam', 'Samarasinghe', 'The', 'secret', 'club', 'Stella', 'and', 'the', 'vampire', 'Nugegoda', 'Sarasavi', 'Publishers', 'teachers', 'Tarindi', 'Jayawardana', 's', 'l', 'p', 'cm', 'Author', 'p', 'ill', 'cm', 'Ad', 'Bc', 'Rs', 'NL', 'Ad', 'Bc', 'Rs', 'NL', 'ISBN', 'NA', 'ISBN', 'NA', 'Intelligence', 'tests', 'English', 'fiction', 'Puzzles', 'Fiction', 'Short', 'stories', 'LITERATURE', 'Subramaniam', 'Alagu', 'Closing', 'time', 'with', 'added', 'personal', 'notes', 'ENGLISH', 'LITERATURE', 'Alagu', 'Subramaniam', 'ed', 'by', 'Premila', 'Thurairatnam', 'nd', 'ed', 'Jaffna', 'Commercial', 'Poetry', 'Press', 'Stores', 'p', 'cm', 'Gunawardane', 'Ruwan', 'First', 'published', 'in', 'Clouds', 'cliffs', 'a', 'collection', 'of', 'Haiku', 'Ad', 'Bc', 'Unpriced', 'NL', 'poems', 'in', 'English', 'Ruwan', 'Gunawardane', 'ISBN', 'Galle', 'Author', 'vii', 'p', 'ill', 'x', 'cm', 'Short', 'stories', 'English', 'Ts', 'Cbc', 'Rs', 'NL', 'ISBN', 'Children', 's', 'fiction', 'English', 'poetry', 'Perera', 'Dinasha', 'Lisabeth', 'The', 'great', 'adventure', 'the', 'magic', 'mirror', 'Gunawardane', 'Ruwan', 'Dinasha', 'Lisabeth', 'Perera', 'Colombo', 'Vijitha', 'No', 'pun', 'intended', 'a', 'collection', 'of', 'poems', 'Yapa', 'Publications', 'p', 'col', 'ill', 'Ruwan', 'Gunawardane', 'Galle', 'Author', 'cm', 'vii', 'p', 'cm', 'Ad', 'Bc', 'Rs', 'NL', 'Ws', 'Cbc', 'Rs', 'NL', 'ISBN', 'NA', 'ISBN', 'Children', 's', 'stories', 'English', 'English', 'poetry', 'LITERATURES', 'OF', 'OTHER', 'HISTORY', 'GEOGRAPHY', 'AND', 'SPECIFIC', 'LANGUAGES', 'AND', 'AUXILIARY', 'DISCIPLINES', 'LANGUAGE', 'FAMILIES', 'Sri', 'Lanka', 'Fiction', 'Novel', 'Ambience', 'contemporary', 'design', 'December', 'Silva', 'W', 'A', 'Colombo', 'Media', 'Service', 'Private', 'Vijayaba', 'Kollaya', 'coup', 'in', 'Kotte', 'Kingdom', 'Limited', 'p', 'photo', 'x', 'cm', 'of', 'Sri', 'Lanka', 'W', 'A', 'Silva', 'tr', 'by', 'Janaka', 'Ts', 'Bc', 'Rs', 'NL', 'Perera', 'Nugegoda', 'Sarasavi', 'Publishers', 'ISBN', 'p', 'cm', 'Ad', 'Bc', 'Rs', 'NL', 'Hotels', 'Sri', 'Lanka', 'Periodical', 'works', 'ISBN', 'NA', 'Historical', 'fiction', 'Sinhalese', 'Sinhalese', 'fiction', 'Sinhalese', 'fiction', 'Translations', 'into', 'English']\n"
     ]
    }
   ],
   "source": [
    "# Print extracted text\n",
    "print(\"Sinhala Text:\", sinhala_text)\n",
    "print(\"Tamil Text:\", tamil_text)\n",
    "print(\"English Text:\", english_text)"
   ],
   "metadata": {
    "collapsed": false,
    "ExecuteTime": {
     "end_time": "2024-05-13T13:51:58.923024400Z",
     "start_time": "2024-05-13T13:51:58.916122300Z"
    }
   },
   "id": "d20843e5e2a5c2e1"
  },
  {
   "cell_type": "code",
   "execution_count": 44,
   "outputs": [
    {
     "ename": "RuntimeError",
     "evalue": "Directory 'static/' does not exist",
     "output_type": "error",
     "traceback": [
      "\u001B[1;31m---------------------------------------------------------------------------\u001B[0m",
      "\u001B[1;31mRuntimeError\u001B[0m                              Traceback (most recent call last)",
      "Cell \u001B[1;32mIn[44], line 1\u001B[0m\n\u001B[1;32m----> 1\u001B[0m \u001B[38;5;28;01mimport\u001B[39;00m \u001B[38;5;21;01mfitz\u001B[39;00m  \u001B[38;5;66;03m# PyMuPDF\u001B[39;00m\n\u001B[0;32m      3\u001B[0m \u001B[38;5;66;03m# Open the PDF file\u001B[39;00m\n\u001B[0;32m      4\u001B[0m pdf_path \u001B[38;5;241m=\u001B[39m \u001B[38;5;124m'\u001B[39m\u001B[38;5;124mslnb/2020-2029/SLNB 2022-01-12/SLNB-2022-06 V.60 June.pdf\u001B[39m\u001B[38;5;124m'\u001B[39m\n",
      "File \u001B[1;32mD:\\Third Year Project\\ThirdYearProject\\src\\data\\venv\\Lib\\site-packages\\fitz\\__init__.py:1\u001B[0m\n\u001B[1;32m----> 1\u001B[0m \u001B[38;5;28;01mfrom\u001B[39;00m \u001B[38;5;21;01mfrontend\u001B[39;00m \u001B[38;5;28;01mimport\u001B[39;00m \u001B[38;5;241m*\u001B[39m\n\u001B[0;32m      2\u001B[0m \u001B[38;5;28;01mimport\u001B[39;00m \u001B[38;5;21;01mtools\u001B[39;00m\n\u001B[0;32m      3\u001B[0m \u001B[38;5;28;01mimport\u001B[39;00m \u001B[38;5;21;01mos\u001B[39;00m\u001B[38;5;21;01m.\u001B[39;00m\u001B[38;5;21;01mpath\u001B[39;00m \u001B[38;5;28;01mas\u001B[39;00m \u001B[38;5;21;01mop\u001B[39;00m\n",
      "File \u001B[1;32mD:\\Third Year Project\\ThirdYearProject\\src\\data\\venv\\Lib\\site-packages\\frontend\\__init__.py:1\u001B[0m\n\u001B[1;32m----> 1\u001B[0m \u001B[38;5;28;01mfrom\u001B[39;00m \u001B[38;5;21;01m.\u001B[39;00m\u001B[38;5;21;01mevents\u001B[39;00m \u001B[38;5;28;01mimport\u001B[39;00m \u001B[38;5;241m*\u001B[39m\n\u001B[0;32m      2\u001B[0m \u001B[38;5;28;01mfrom\u001B[39;00m \u001B[38;5;21;01m.\u001B[39;00m \u001B[38;5;28;01mimport\u001B[39;00m config\n\u001B[0;32m      3\u001B[0m \u001B[38;5;28;01mfrom\u001B[39;00m \u001B[38;5;21;01m.\u001B[39;00m\u001B[38;5;21;01mcomponents\u001B[39;00m \u001B[38;5;28;01mimport\u001B[39;00m \u001B[38;5;241m*\u001B[39m\n",
      "File \u001B[1;32mD:\\Third Year Project\\ThirdYearProject\\src\\data\\venv\\Lib\\site-packages\\frontend\\events\\__init__.py:1\u001B[0m\n\u001B[1;32m----> 1\u001B[0m \u001B[38;5;28;01mfrom\u001B[39;00m \u001B[38;5;21;01m.\u001B[39;00m\u001B[38;5;21;01mclipboard\u001B[39;00m \u001B[38;5;28;01mimport\u001B[39;00m \u001B[38;5;241m*\u001B[39m\n\u001B[0;32m      2\u001B[0m \u001B[38;5;28;01mfrom\u001B[39;00m \u001B[38;5;21;01m.\u001B[39;00m\u001B[38;5;21;01mevent_mixins\u001B[39;00m \u001B[38;5;28;01mimport\u001B[39;00m \u001B[38;5;241m*\u001B[39m\n\u001B[0;32m      3\u001B[0m \u001B[38;5;28;01mfrom\u001B[39;00m \u001B[38;5;21;01m.\u001B[39;00m\u001B[38;5;21;01mhash_change\u001B[39;00m \u001B[38;5;28;01mimport\u001B[39;00m \u001B[38;5;241m*\u001B[39m\n",
      "File \u001B[1;32mD:\\Third Year Project\\ThirdYearProject\\src\\data\\venv\\Lib\\site-packages\\frontend\\events\\clipboard.py:2\u001B[0m\n\u001B[0;32m      1\u001B[0m \u001B[38;5;28;01mfrom\u001B[39;00m \u001B[38;5;21;01m.\u001B[39;00m\u001B[38;5;21;01mevent_mixins\u001B[39;00m \u001B[38;5;28;01mimport\u001B[39;00m ClipboardDataMixin\n\u001B[1;32m----> 2\u001B[0m \u001B[38;5;28;01mfrom\u001B[39;00m \u001B[38;5;21;01m.\u001B[39;00m\u001B[38;5;21;01m.\u001B[39;00m\u001B[38;5;21;01mdom\u001B[39;00m \u001B[38;5;28;01mimport\u001B[39;00m Event\n\u001B[0;32m      4\u001B[0m __all__ \u001B[38;5;241m=\u001B[39m [\u001B[38;5;124m'\u001B[39m\u001B[38;5;124mClipboardEvent\u001B[39m\u001B[38;5;124m'\u001B[39m]\n\u001B[0;32m      7\u001B[0m \u001B[38;5;28;01mclass\u001B[39;00m \u001B[38;5;21;01mClipboardEvent\u001B[39;00m(Event, ClipboardDataMixin):\n",
      "File \u001B[1;32mD:\\Third Year Project\\ThirdYearProject\\src\\data\\venv\\Lib\\site-packages\\frontend\\dom.py:439\u001B[0m\n\u001B[0;32m    435\u001B[0m         \u001B[38;5;28;01mexcept\u001B[39;00m \u001B[38;5;167;01mKeyError\u001B[39;00m:\n\u001B[0;32m    436\u001B[0m             \u001B[38;5;28;01mpass\u001B[39;00m\n\u001B[1;32m--> 439\u001B[0m \u001B[38;5;28;01mfrom\u001B[39;00m \u001B[38;5;21;01m.\u001B[39;00m \u001B[38;5;28;01mimport\u001B[39;00m dispatcher\n",
      "File \u001B[1;32mD:\\Third Year Project\\ThirdYearProject\\src\\data\\venv\\Lib\\site-packages\\frontend\\dispatcher.py:15\u001B[0m\n\u001B[0;32m     12\u001B[0m \u001B[38;5;28;01mfrom\u001B[39;00m \u001B[38;5;21;01mstarlette\u001B[39;00m\u001B[38;5;21;01m.\u001B[39;00m\u001B[38;5;21;01mendpoints\u001B[39;00m \u001B[38;5;28;01mimport\u001B[39;00m WebSocketEndpoint\n\u001B[0;32m     13\u001B[0m \u001B[38;5;28;01mfrom\u001B[39;00m \u001B[38;5;21;01mstarlette\u001B[39;00m\u001B[38;5;21;01m.\u001B[39;00m\u001B[38;5;21;01mwebsockets\u001B[39;00m \u001B[38;5;28;01mimport\u001B[39;00m WebSocket\n\u001B[1;32m---> 15\u001B[0m \u001B[38;5;28;01mfrom\u001B[39;00m \u001B[38;5;21;01m.\u001B[39;00m \u001B[38;5;28;01mimport\u001B[39;00m config, server\n\u001B[0;32m     16\u001B[0m \u001B[38;5;28;01mfrom\u001B[39;00m \u001B[38;5;21;01m.\u001B[39;00m\u001B[38;5;21;01masync_utils\u001B[39;00m \u001B[38;5;28;01mimport\u001B[39;00m later_await\n\u001B[0;32m     18\u001B[0m __all__ \u001B[38;5;241m=\u001B[39m [\u001B[38;5;124m'\u001B[39m\u001B[38;5;124mreact\u001B[39m\u001B[38;5;124m'\u001B[39m]\n",
      "File \u001B[1;32mD:\\Third Year Project\\ThirdYearProject\\src\\data\\venv\\Lib\\site-packages\\frontend\\server.py:24\u001B[0m\n\u001B[0;32m     21\u001B[0m __all__ \u001B[38;5;241m=\u001B[39m [\u001B[38;5;124m'\u001B[39m\u001B[38;5;124mroute\u001B[39m\u001B[38;5;124m'\u001B[39m, \u001B[38;5;124m'\u001B[39m\u001B[38;5;124mrun\u001B[39m\u001B[38;5;124m'\u001B[39m]\n\u001B[0;32m     23\u001B[0m app: Any \u001B[38;5;241m=\u001B[39m Starlette(debug\u001B[38;5;241m=\u001B[39mconfig\u001B[38;5;241m.\u001B[39mDEBUG)\n\u001B[1;32m---> 24\u001B[0m app\u001B[38;5;241m.\u001B[39mmount(config\u001B[38;5;241m.\u001B[39mSTATIC_ROUTE, \u001B[43mStaticFiles\u001B[49m\u001B[43m(\u001B[49m\u001B[43mdirectory\u001B[49m\u001B[38;5;241;43m=\u001B[39;49m\u001B[43mconfig\u001B[49m\u001B[38;5;241;43m.\u001B[39;49m\u001B[43mSTATIC_DIRECTORY\u001B[49m\u001B[43m)\u001B[49m, name\u001B[38;5;241m=\u001B[39mconfig\u001B[38;5;241m.\u001B[39mSTATIC_NAME)\n\u001B[0;32m     25\u001B[0m app\u001B[38;5;241m.\u001B[39madd_middleware(GZipMiddleware)\n\u001B[0;32m     26\u001B[0m app\u001B[38;5;241m.\u001B[39madd_middleware(\n\u001B[0;32m     27\u001B[0m     CORSMiddleware,\n\u001B[0;32m     28\u001B[0m     allow_origins\u001B[38;5;241m=\u001B[39m[\u001B[38;5;124m\"\u001B[39m\u001B[38;5;124m*\u001B[39m\u001B[38;5;124m\"\u001B[39m],\n\u001B[1;32m   (...)\u001B[0m\n\u001B[0;32m     31\u001B[0m     allow_headers\u001B[38;5;241m=\u001B[39m[\u001B[38;5;124m\"\u001B[39m\u001B[38;5;124m*\u001B[39m\u001B[38;5;124m\"\u001B[39m],\n\u001B[0;32m     32\u001B[0m )\n",
      "File \u001B[1;32mD:\\Third Year Project\\ThirdYearProject\\src\\data\\venv\\Lib\\site-packages\\starlette\\staticfiles.py:59\u001B[0m, in \u001B[0;36mStaticFiles.__init__\u001B[1;34m(self, directory, packages, html, check_dir, follow_symlink)\u001B[0m\n\u001B[0;32m     57\u001B[0m \u001B[38;5;28mself\u001B[39m\u001B[38;5;241m.\u001B[39mfollow_symlink \u001B[38;5;241m=\u001B[39m follow_symlink\n\u001B[0;32m     58\u001B[0m \u001B[38;5;28;01mif\u001B[39;00m check_dir \u001B[38;5;129;01mand\u001B[39;00m directory \u001B[38;5;129;01mis\u001B[39;00m \u001B[38;5;129;01mnot\u001B[39;00m \u001B[38;5;28;01mNone\u001B[39;00m \u001B[38;5;129;01mand\u001B[39;00m \u001B[38;5;129;01mnot\u001B[39;00m os\u001B[38;5;241m.\u001B[39mpath\u001B[38;5;241m.\u001B[39misdir(directory):\n\u001B[1;32m---> 59\u001B[0m     \u001B[38;5;28;01mraise\u001B[39;00m \u001B[38;5;167;01mRuntimeError\u001B[39;00m(\u001B[38;5;124mf\u001B[39m\u001B[38;5;124m\"\u001B[39m\u001B[38;5;124mDirectory \u001B[39m\u001B[38;5;124m'\u001B[39m\u001B[38;5;132;01m{\u001B[39;00mdirectory\u001B[38;5;132;01m}\u001B[39;00m\u001B[38;5;124m'\u001B[39m\u001B[38;5;124m does not exist\u001B[39m\u001B[38;5;124m\"\u001B[39m)\n",
      "\u001B[1;31mRuntimeError\u001B[0m: Directory 'static/' does not exist"
     ]
    }
   ],
   "source": [],
   "metadata": {
    "collapsed": false,
    "ExecuteTime": {
     "end_time": "2024-05-13T14:03:21.096849800Z",
     "start_time": "2024-05-13T14:03:20.448527300Z"
    }
   },
   "id": "faf32295c795782d"
  },
  {
   "cell_type": "code",
   "execution_count": 61,
   "outputs": [
    {
     "name": "stdout",
     "output_type": "stream",
     "text": [
      "SRI  LANKA NATIONAL  BIBLIOGRAPHY\n",
      "SUBJECT  SECTION  \n",
      "0  0  0    COMPUTER  SCIENCE,  \n",
      "                      INFORMATION, GENERAL \n",
      "                WORKS\n",
      "001.94 - Mysteries\n",
      "Razeen, Muhammad \n",
      "The wonders of the world / Muhammad \n",
      "Razeen ; tr. by A. C. M. Wabanbey. - \n",
      "Kurunegala : Author, 2019. - 56 p. : \n",
      "photos ; 21 cm. \n",
      "Ad-Bc : Rs. 350.00 \n",
      "(1097524 NL)\n",
      "ISBN 978-955-43511-7-2  \n",
      "1. Curiosities and wonders \n",
      "2 0 0   RELIGION\n",
      "2 9 0  OTHER RELIGIONS\n",
      "294.3435095493 - Sri Lanka \n",
      "Somasundara, J. W. D. \n",
      "The most sacred Sri Pada / J. W. D. \n",
      "Somasundara and H. M. Jayantha \n",
      "Wijeratna ; tr. by Sunil Wijeyesinghe. - \n",
      "Colombo : S. Godage, 2022. - 128 p. : \n",
      "photos ; 22 cm. \n",
      "Ad-Bc : Rs. 950.00 \n",
      "(1104779  NL)\n",
      "ISBN 978-624-00-1311-6  \n",
      "(477668 NA)\n",
      "1. Adam's Peak (Sri Lanka)\n",
      "2. Mountains-Sri Lanka \n",
      "3 0 0   SOCIAL SCIENCES\n",
      "303.4833 - Communication\n",
      " \n",
      "Critical perspectives on open development : \n",
      "empirical interrogation of theory \n",
      "construction / ed.  Arul Chib, Caitlin M. \n",
      "Bentley and Matthew L. Smith. - England : \n",
      "The MIT Press, 2020. - xi,302 p. ; 23 cm. - \n",
      "(The MIT press - international development\n",
      "research centre series ;) \n",
      "Ad-Bc : Unpriced \n",
      "(1096164 NL)\n",
      "ISBN 978-0-262-54232-6 \n",
      "1. Economic development\n",
      "2. Information commons\n",
      "3. Information society\n",
      "4. Information technology-Social aspects \n",
      "5. Open source software\n",
      "6. Sri Lanka Standard Institution \n",
      "305.89481105493 – Sri Lanka \n",
      "Up country Tamils : charting a new future in \n",
      "Sri Lanka / ed. Daniel Bass and B. \n",
      "Skanthakumar. - Colombo : International \n",
      "Centre for Ethnic Studies, 2019. - \n",
      " xxi,243 p. ; 22 cm. \n",
      " Ts-Cbc : Unpriced \n",
      "(1084209 NL)\n",
      " ISBN 978-955-580-237-6 \n",
      "1. Malaiyaha Tamil (Sri Lankan people)-\n",
      "        Sri Lanka \n",
      "    2. Race relations-Political aspects\n",
      "    3. Sri Lanka-Ethnic relations\n",
      "    4. Sri Lanka-Politics and government\n",
      "3 2 0  POLITICAL SCIENCE\n",
      "320.95493 – Sri Lanka\n",
      "Perera, L. C. \n",
      "Facing our own citizens in conflict \n",
      "situations : the Southern JVP insurrection \n",
      "1987 - 1989 / L. C. Perera. - [s. l.] : [s. n.], \n",
      "2022. - 336 p. ; 21 cm. \n",
      "Ad-Bc : Rs. 1000.00 \n",
      "(1098304 NL)\n",
      "ISBN 978-624-5771-06-6 \n",
      "(475457 NA)\n",
      "1. Janatha Vimukthi Peramuna \n",
      "2. Sri Lanka-Politics and government\n"
     ]
    }
   ],
   "source": [
    "import fitz\n",
    "\n",
    "def extract_text_from_page(pdf_path, page_number):\n",
    "    try:\n",
    "        # Open the PDF file\n",
    "        doc = fitz.open(pdf_path)\n",
    "\n",
    "        # Get the specified page\n",
    "        page = doc[page_number - 1]  # Page numbers start from 0, so subtract 1\n",
    "\n",
    "        # Extract text from the page\n",
    "        text = page.get_text()\n",
    "\n",
    "        # Close the PDF document\n",
    "        doc.close()\n",
    "\n",
    "        return text\n",
    "    except Exception as e:\n",
    "        print(\"Error:\", e)\n",
    "        return None\n",
    "\n",
    "# Specify the PDF file path and the page number you want to extract text from\n",
    "pdf_path = 'slnb/2020-2029/SLNB 2022-01-12/SLNB-2022-06 V.60 June.pdf'\n",
    "page_number = 47  # Change this to the desired page number\n",
    "\n",
    "# Extract text from the specified page\n",
    "text_from_page = extract_text_from_page(pdf_path, page_number)\n",
    "\n",
    "# Print the extracted text\n",
    "if text_from_page:\n",
    "    print(text_from_page)\n",
    "else:\n",
    "    print(\"Failed to extract text from the specified page.\")\n"
   ],
   "metadata": {
    "collapsed": false,
    "ExecuteTime": {
     "end_time": "2024-05-13T14:21:35.189998400Z",
     "start_time": "2024-05-13T14:21:35.175176400Z"
    }
   },
   "id": "cc9400d47813c44d"
  },
  {
   "cell_type": "code",
   "execution_count": 62,
   "outputs": [
    {
     "name": "stdout",
     "output_type": "stream",
     "text": [
      "Classification    Title    Author    Publisher    Publication Year    Page Count    Size    Price    ISBN    Topics\n",
      "----------------  -------  --------  -----------  ------------------  ------------  ------  -------  ------  --------\n"
     ]
    }
   ],
   "source": [
    "import re\n",
    "from tabulate import tabulate\n",
    "\n",
    "# Define regular expressions for extracting information\n",
    "pattern = r\"(\\d{1,3}\\.\\d{2})\\s-\\s([\\w\\s,.'-]+)\\s\\/\\s([\\w\\s,.'-]+)\\s;\\s([\\w\\s,.'-]+)\\s:\\s([\\w\\s,.'-]+)\\s-\\s(\\d{4})\\.\\s-\\s(\\d+\\s\\w+)\\s:\\s(\\w+\\s;\\s\\d+\\s\\w+)[\\s\\n]+(?:\\(.*?\\))?\\sISBN\\s(\\d{3}-\\d{1,7}-\\d{1,7}-\\d{1,7}-\\d{1,7})\\s*(.*?)\\s(\\d+\\s\\w+)\"\n",
    "headers = [\"Classification\", \"Title\", \"Author\", \"Publisher\", \"Publication Year\", \"Page Count\", \"Size\", \"Price\", \"ISBN\", \"Topics\"]\n",
    "\n",
    "# Extract information using regular expressions\n",
    "matches = re.findall(pattern, text_from_page, re.DOTALL)\n",
    "\n",
    "# Format extracted data into a tabulated form\n",
    "table_data = []\n",
    "for match in matches:\n",
    "    table_data.append(list(match))\n",
    "\n",
    "# Print the tabulated data\n",
    "print(tabulate(table_data, headers=headers))\n"
   ],
   "metadata": {
    "collapsed": false,
    "ExecuteTime": {
     "end_time": "2024-05-13T14:21:36.790237600Z",
     "start_time": "2024-05-13T14:21:36.769674700Z"
    }
   },
   "id": "dcee1b8662fa940e"
  },
  {
   "cell_type": "code",
   "execution_count": null,
   "outputs": [],
   "source": [],
   "metadata": {
    "collapsed": false
   },
   "id": "8e2975bad7e554bc"
  }
 ],
 "metadata": {
  "kernelspec": {
   "display_name": "Python 3",
   "language": "python",
   "name": "python3"
  },
  "language_info": {
   "codemirror_mode": {
    "name": "ipython",
    "version": 2
   },
   "file_extension": ".py",
   "mimetype": "text/x-python",
   "name": "python",
   "nbconvert_exporter": "python",
   "pygments_lexer": "ipython2",
   "version": "2.7.6"
  }
 },
 "nbformat": 4,
 "nbformat_minor": 5
}
