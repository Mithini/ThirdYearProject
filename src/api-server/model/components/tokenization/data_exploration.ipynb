{
 "cells": [
  {
   "cell_type": "code",
   "execution_count": 17,
   "id": "initial_id",
   "metadata": {
    "collapsed": true,
    "ExecuteTime": {
     "end_time": "2024-05-13T12:10:47.671961300Z",
     "start_time": "2024-05-13T12:10:47.668911400Z"
    }
   },
   "outputs": [],
   "source": [
    "import pandas as pd\n",
    "from ast import literal_eval"
   ]
  },
  {
   "cell_type": "code",
   "execution_count": 18,
   "outputs": [],
   "source": [
    "# Set the float format\n",
    "pd.options.display.float_format = '{:.2f}'.format"
   ],
   "metadata": {
    "collapsed": false,
    "ExecuteTime": {
     "end_time": "2024-05-13T12:10:47.680174600Z",
     "start_time": "2024-05-13T12:10:47.674468Z"
    }
   },
   "id": "1ccf932f4083e0e5"
  },
  {
   "cell_type": "code",
   "execution_count": 19,
   "outputs": [],
   "source": [
    "# Import data from the goodbooks-10k repo\n",
    "books_df = pd.read_csv('https://raw.githubusercontent.com/malcolmosh/goodbooks-10k/master/books_enriched.csv',\n",
    "                       index_col=[0], converters={\"genres\": literal_eval})\n",
    "books_ratings = pd.read_csv('https://raw.githubusercontent.com/malcolmosh/goodbooks-10k/master/ratings.csv')"
   ],
   "metadata": {
    "collapsed": false,
    "ExecuteTime": {
     "end_time": "2024-05-13T12:11:11.803722Z",
     "start_time": "2024-05-13T12:10:47.689940100Z"
    }
   },
   "id": "79669eaa14273fea"
  },
  {
   "cell_type": "code",
   "execution_count": 20,
   "outputs": [
    {
     "data": {
      "text/plain": "                                                                           0  \\\nindex                                                                      0   \nauthors                                                  ['Suzanne Collins']   \naverage_rating                                                          4.34   \nbest_book_id                                                         2767052   \nbook_id                                                                    1   \nbooks_count                                                              272   \ndescription                WINNING MEANS FAME AND FORTUNE.LOSING MEANS CE...   \ngenres                     [young-adult, fiction, fantasy, science-fictio...   \ngoodreads_book_id                                                    2767052   \nimage_url                  https://images.gr-assets.com/books/1447303603m...   \nisbn                                                               439023483   \nisbn13                                                      9780439023480.00   \nlanguage_code                                                            eng   \noriginal_publication_year                                            2008.00   \noriginal_title                                              The Hunger Games   \npages                                                                 374.00   \npublishDate                                                         09/14/08   \nratings_1                                                              66715   \nratings_2                                                             127936   \nratings_3                                                             560092   \nratings_4                                                            1481305   \nratings_5                                                            2706317   \nratings_count                                                        4780653   \nsmall_image_url            https://images.gr-assets.com/books/1447303603s...   \ntitle                                The Hunger Games (The Hunger Games, #1)   \nwork_id                                                              2792775   \nwork_ratings_count                                                   4942365   \nwork_text_reviews_count                                               155254   \nauthors_2                                                ['Suzanne Collins']   \n\n                                                                           1  \\\nindex                                                                      1   \nauthors                                    ['J.K. Rowling', 'Mary GrandPré']   \naverage_rating                                                          4.44   \nbest_book_id                                                               3   \nbook_id                                                                    2   \nbooks_count                                                              491   \ndescription                Harry Potter's life is miserable. His parents ...   \ngenres                             [fantasy, fiction, young-adult, classics]   \ngoodreads_book_id                                                          3   \nimage_url                  https://images.gr-assets.com/books/1474154022m...   \nisbn                                                               439554934   \nisbn13                                                      9780439554930.00   \nlanguage_code                                                            eng   \noriginal_publication_year                                            1997.00   \noriginal_title                      Harry Potter and the Philosopher's Stone   \npages                                                                 309.00   \npublishDate                                                         11/01/03   \nratings_1                                                              75504   \nratings_2                                                             101676   \nratings_3                                                             455024   \nratings_4                                                            1156318   \nratings_5                                                            3011543   \nratings_count                                                        4602479   \nsmall_image_url            https://images.gr-assets.com/books/1474154022s...   \ntitle                      Harry Potter and the Sorcerer's Stone (Harry P...   \nwork_id                                                              4640799   \nwork_ratings_count                                                   4800065   \nwork_text_reviews_count                                                75867   \nauthors_2                                  ['J.K. Rowling', 'Mary GrandPré']   \n\n                                                                           2  \nindex                                                                      2  \nauthors                                                  ['Stephenie Meyer']  \naverage_rating                                                          3.57  \nbest_book_id                                                           41865  \nbook_id                                                                    3  \nbooks_count                                                              226  \ndescription                About three things I was absolutely positive.\\...  \ngenres                     [young-adult, fantasy, romance, fiction, paran...  \ngoodreads_book_id                                                      41865  \nimage_url                  https://images.gr-assets.com/books/1361039443m...  \nisbn                                                               316015849  \nisbn13                                                      9780316015840.00  \nlanguage_code                                                            eng  \noriginal_publication_year                                            2005.00  \noriginal_title                                                      Twilight  \npages                                                                 501.00  \npublishDate                                                         09/06/06  \nratings_1                                                             456191  \nratings_2                                                             436802  \nratings_3                                                             793319  \nratings_4                                                             875073  \nratings_5                                                            1355439  \nratings_count                                                        3866839  \nsmall_image_url            https://images.gr-assets.com/books/1361039443s...  \ntitle                                                Twilight (Twilight, #1)  \nwork_id                                                              3212258  \nwork_ratings_count                                                   3916824  \nwork_text_reviews_count                                                95009  \nauthors_2                                                ['Stephenie Meyer']  ",
      "text/html": "<div>\n<style scoped>\n    .dataframe tbody tr th:only-of-type {\n        vertical-align: middle;\n    }\n\n    .dataframe tbody tr th {\n        vertical-align: top;\n    }\n\n    .dataframe thead th {\n        text-align: right;\n    }\n</style>\n<table border=\"1\" class=\"dataframe\">\n  <thead>\n    <tr style=\"text-align: right;\">\n      <th></th>\n      <th>0</th>\n      <th>1</th>\n      <th>2</th>\n    </tr>\n  </thead>\n  <tbody>\n    <tr>\n      <th>index</th>\n      <td>0</td>\n      <td>1</td>\n      <td>2</td>\n    </tr>\n    <tr>\n      <th>authors</th>\n      <td>['Suzanne Collins']</td>\n      <td>['J.K. Rowling', 'Mary GrandPré']</td>\n      <td>['Stephenie Meyer']</td>\n    </tr>\n    <tr>\n      <th>average_rating</th>\n      <td>4.34</td>\n      <td>4.44</td>\n      <td>3.57</td>\n    </tr>\n    <tr>\n      <th>best_book_id</th>\n      <td>2767052</td>\n      <td>3</td>\n      <td>41865</td>\n    </tr>\n    <tr>\n      <th>book_id</th>\n      <td>1</td>\n      <td>2</td>\n      <td>3</td>\n    </tr>\n    <tr>\n      <th>books_count</th>\n      <td>272</td>\n      <td>491</td>\n      <td>226</td>\n    </tr>\n    <tr>\n      <th>description</th>\n      <td>WINNING MEANS FAME AND FORTUNE.LOSING MEANS CE...</td>\n      <td>Harry Potter's life is miserable. His parents ...</td>\n      <td>About three things I was absolutely positive.\\...</td>\n    </tr>\n    <tr>\n      <th>genres</th>\n      <td>[young-adult, fiction, fantasy, science-fictio...</td>\n      <td>[fantasy, fiction, young-adult, classics]</td>\n      <td>[young-adult, fantasy, romance, fiction, paran...</td>\n    </tr>\n    <tr>\n      <th>goodreads_book_id</th>\n      <td>2767052</td>\n      <td>3</td>\n      <td>41865</td>\n    </tr>\n    <tr>\n      <th>image_url</th>\n      <td>https://images.gr-assets.com/books/1447303603m...</td>\n      <td>https://images.gr-assets.com/books/1474154022m...</td>\n      <td>https://images.gr-assets.com/books/1361039443m...</td>\n    </tr>\n    <tr>\n      <th>isbn</th>\n      <td>439023483</td>\n      <td>439554934</td>\n      <td>316015849</td>\n    </tr>\n    <tr>\n      <th>isbn13</th>\n      <td>9780439023480.00</td>\n      <td>9780439554930.00</td>\n      <td>9780316015840.00</td>\n    </tr>\n    <tr>\n      <th>language_code</th>\n      <td>eng</td>\n      <td>eng</td>\n      <td>eng</td>\n    </tr>\n    <tr>\n      <th>original_publication_year</th>\n      <td>2008.00</td>\n      <td>1997.00</td>\n      <td>2005.00</td>\n    </tr>\n    <tr>\n      <th>original_title</th>\n      <td>The Hunger Games</td>\n      <td>Harry Potter and the Philosopher's Stone</td>\n      <td>Twilight</td>\n    </tr>\n    <tr>\n      <th>pages</th>\n      <td>374.00</td>\n      <td>309.00</td>\n      <td>501.00</td>\n    </tr>\n    <tr>\n      <th>publishDate</th>\n      <td>09/14/08</td>\n      <td>11/01/03</td>\n      <td>09/06/06</td>\n    </tr>\n    <tr>\n      <th>ratings_1</th>\n      <td>66715</td>\n      <td>75504</td>\n      <td>456191</td>\n    </tr>\n    <tr>\n      <th>ratings_2</th>\n      <td>127936</td>\n      <td>101676</td>\n      <td>436802</td>\n    </tr>\n    <tr>\n      <th>ratings_3</th>\n      <td>560092</td>\n      <td>455024</td>\n      <td>793319</td>\n    </tr>\n    <tr>\n      <th>ratings_4</th>\n      <td>1481305</td>\n      <td>1156318</td>\n      <td>875073</td>\n    </tr>\n    <tr>\n      <th>ratings_5</th>\n      <td>2706317</td>\n      <td>3011543</td>\n      <td>1355439</td>\n    </tr>\n    <tr>\n      <th>ratings_count</th>\n      <td>4780653</td>\n      <td>4602479</td>\n      <td>3866839</td>\n    </tr>\n    <tr>\n      <th>small_image_url</th>\n      <td>https://images.gr-assets.com/books/1447303603s...</td>\n      <td>https://images.gr-assets.com/books/1474154022s...</td>\n      <td>https://images.gr-assets.com/books/1361039443s...</td>\n    </tr>\n    <tr>\n      <th>title</th>\n      <td>The Hunger Games (The Hunger Games, #1)</td>\n      <td>Harry Potter and the Sorcerer's Stone (Harry P...</td>\n      <td>Twilight (Twilight, #1)</td>\n    </tr>\n    <tr>\n      <th>work_id</th>\n      <td>2792775</td>\n      <td>4640799</td>\n      <td>3212258</td>\n    </tr>\n    <tr>\n      <th>work_ratings_count</th>\n      <td>4942365</td>\n      <td>4800065</td>\n      <td>3916824</td>\n    </tr>\n    <tr>\n      <th>work_text_reviews_count</th>\n      <td>155254</td>\n      <td>75867</td>\n      <td>95009</td>\n    </tr>\n    <tr>\n      <th>authors_2</th>\n      <td>['Suzanne Collins']</td>\n      <td>['J.K. Rowling', 'Mary GrandPré']</td>\n      <td>['Stephenie Meyer']</td>\n    </tr>\n  </tbody>\n</table>\n</div>"
     },
     "execution_count": 20,
     "metadata": {},
     "output_type": "execute_result"
    }
   ],
   "source": [
    "# Display three entries\n",
    "books_df.head(3).T"
   ],
   "metadata": {
    "collapsed": false,
    "ExecuteTime": {
     "end_time": "2024-05-13T12:11:11.820782200Z",
     "start_time": "2024-05-13T12:11:11.805823700Z"
    }
   },
   "id": "69f91c3635a48005"
  },
  {
   "cell_type": "code",
   "execution_count": null,
   "outputs": [],
   "source": [
    "\"\"\"## Analysis\"\"\"\n",
    "\n",
    "# Display three entries\n",
    "books_df.head(3).T\n",
    "\n",
    "# See what genres are numbers\n",
    "non_list_entries = books_df[~books_df['genres'].apply(lambda x: isinstance(x, list))]\n",
    "print(non_list_entries[['title', 'genres']])\n",
    "\n",
    "print(books_df['title'].sample(10))"
   ],
   "metadata": {
    "collapsed": false
   },
   "id": "4b91d3bb069dfe01"
  }
 ],
 "metadata": {
  "kernelspec": {
   "display_name": "Python 3",
   "language": "python",
   "name": "python3"
  },
  "language_info": {
   "codemirror_mode": {
    "name": "ipython",
    "version": 2
   },
   "file_extension": ".py",
   "mimetype": "text/x-python",
   "name": "python",
   "nbconvert_exporter": "python",
   "pygments_lexer": "ipython2",
   "version": "2.7.6"
  }
 },
 "nbformat": 4,
 "nbformat_minor": 5
}
