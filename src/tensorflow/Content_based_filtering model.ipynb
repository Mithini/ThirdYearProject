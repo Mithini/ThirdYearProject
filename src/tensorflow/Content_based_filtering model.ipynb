{
 "cells": [
  {
   "cell_type": "code",
   "execution_count": 1,
   "metadata": {},
   "outputs": [
    {
     "data": {
      "text/html": [
       "<div>\n",
       "<style scoped>\n",
       "    .dataframe tbody tr th:only-of-type {\n",
       "        vertical-align: middle;\n",
       "    }\n",
       "\n",
       "    .dataframe tbody tr th {\n",
       "        vertical-align: top;\n",
       "    }\n",
       "\n",
       "    .dataframe thead th {\n",
       "        text-align: right;\n",
       "    }\n",
       "</style>\n",
       "<table border=\"1\" class=\"dataframe\">\n",
       "  <thead>\n",
       "    <tr style=\"text-align: right;\">\n",
       "      <th></th>\n",
       "      <th>0</th>\n",
       "      <th>1</th>\n",
       "      <th>2</th>\n",
       "    </tr>\n",
       "  </thead>\n",
       "  <tbody>\n",
       "    <tr>\n",
       "      <th>index</th>\n",
       "      <td>0</td>\n",
       "      <td>1</td>\n",
       "      <td>2</td>\n",
       "    </tr>\n",
       "    <tr>\n",
       "      <th>authors</th>\n",
       "      <td>['Suzanne Collins']</td>\n",
       "      <td>['J.K. Rowling', 'Mary GrandPré']</td>\n",
       "      <td>['Stephenie Meyer']</td>\n",
       "    </tr>\n",
       "    <tr>\n",
       "      <th>average_rating</th>\n",
       "      <td>4.34</td>\n",
       "      <td>4.44</td>\n",
       "      <td>3.57</td>\n",
       "    </tr>\n",
       "    <tr>\n",
       "      <th>best_book_id</th>\n",
       "      <td>2767052</td>\n",
       "      <td>3</td>\n",
       "      <td>41865</td>\n",
       "    </tr>\n",
       "    <tr>\n",
       "      <th>book_id</th>\n",
       "      <td>1</td>\n",
       "      <td>2</td>\n",
       "      <td>3</td>\n",
       "    </tr>\n",
       "    <tr>\n",
       "      <th>books_count</th>\n",
       "      <td>272</td>\n",
       "      <td>491</td>\n",
       "      <td>226</td>\n",
       "    </tr>\n",
       "    <tr>\n",
       "      <th>description</th>\n",
       "      <td>WINNING MEANS FAME AND FORTUNE.LOSING MEANS CE...</td>\n",
       "      <td>Harry Potter's life is miserable. His parents ...</td>\n",
       "      <td>About three things I was absolutely positive.\\...</td>\n",
       "    </tr>\n",
       "    <tr>\n",
       "      <th>genres</th>\n",
       "      <td>[young-adult, fiction, fantasy, science-fictio...</td>\n",
       "      <td>[fantasy, fiction, young-adult, classics]</td>\n",
       "      <td>[young-adult, fantasy, romance, fiction, paran...</td>\n",
       "    </tr>\n",
       "    <tr>\n",
       "      <th>goodreads_book_id</th>\n",
       "      <td>2767052</td>\n",
       "      <td>3</td>\n",
       "      <td>41865</td>\n",
       "    </tr>\n",
       "    <tr>\n",
       "      <th>image_url</th>\n",
       "      <td>https://images.gr-assets.com/books/1447303603m...</td>\n",
       "      <td>https://images.gr-assets.com/books/1474154022m...</td>\n",
       "      <td>https://images.gr-assets.com/books/1361039443m...</td>\n",
       "    </tr>\n",
       "    <tr>\n",
       "      <th>isbn</th>\n",
       "      <td>439023483</td>\n",
       "      <td>439554934</td>\n",
       "      <td>316015849</td>\n",
       "    </tr>\n",
       "    <tr>\n",
       "      <th>isbn13</th>\n",
       "      <td>9780439023480.00</td>\n",
       "      <td>9780439554930.00</td>\n",
       "      <td>9780316015840.00</td>\n",
       "    </tr>\n",
       "    <tr>\n",
       "      <th>language_code</th>\n",
       "      <td>eng</td>\n",
       "      <td>eng</td>\n",
       "      <td>eng</td>\n",
       "    </tr>\n",
       "    <tr>\n",
       "      <th>original_publication_year</th>\n",
       "      <td>2008.00</td>\n",
       "      <td>1997.00</td>\n",
       "      <td>2005.00</td>\n",
       "    </tr>\n",
       "    <tr>\n",
       "      <th>original_title</th>\n",
       "      <td>The Hunger Games</td>\n",
       "      <td>Harry Potter and the Philosopher's Stone</td>\n",
       "      <td>Twilight</td>\n",
       "    </tr>\n",
       "    <tr>\n",
       "      <th>pages</th>\n",
       "      <td>374.00</td>\n",
       "      <td>309.00</td>\n",
       "      <td>501.00</td>\n",
       "    </tr>\n",
       "    <tr>\n",
       "      <th>publishDate</th>\n",
       "      <td>09/14/08</td>\n",
       "      <td>11/01/03</td>\n",
       "      <td>09/06/06</td>\n",
       "    </tr>\n",
       "    <tr>\n",
       "      <th>ratings_1</th>\n",
       "      <td>66715</td>\n",
       "      <td>75504</td>\n",
       "      <td>456191</td>\n",
       "    </tr>\n",
       "    <tr>\n",
       "      <th>ratings_2</th>\n",
       "      <td>127936</td>\n",
       "      <td>101676</td>\n",
       "      <td>436802</td>\n",
       "    </tr>\n",
       "    <tr>\n",
       "      <th>ratings_3</th>\n",
       "      <td>560092</td>\n",
       "      <td>455024</td>\n",
       "      <td>793319</td>\n",
       "    </tr>\n",
       "    <tr>\n",
       "      <th>ratings_4</th>\n",
       "      <td>1481305</td>\n",
       "      <td>1156318</td>\n",
       "      <td>875073</td>\n",
       "    </tr>\n",
       "    <tr>\n",
       "      <th>ratings_5</th>\n",
       "      <td>2706317</td>\n",
       "      <td>3011543</td>\n",
       "      <td>1355439</td>\n",
       "    </tr>\n",
       "    <tr>\n",
       "      <th>ratings_count</th>\n",
       "      <td>4780653</td>\n",
       "      <td>4602479</td>\n",
       "      <td>3866839</td>\n",
       "    </tr>\n",
       "    <tr>\n",
       "      <th>small_image_url</th>\n",
       "      <td>https://images.gr-assets.com/books/1447303603s...</td>\n",
       "      <td>https://images.gr-assets.com/books/1474154022s...</td>\n",
       "      <td>https://images.gr-assets.com/books/1361039443s...</td>\n",
       "    </tr>\n",
       "    <tr>\n",
       "      <th>title</th>\n",
       "      <td>The Hunger Games (The Hunger Games, #1)</td>\n",
       "      <td>Harry Potter and the Sorcerer's Stone (Harry P...</td>\n",
       "      <td>Twilight (Twilight, #1)</td>\n",
       "    </tr>\n",
       "    <tr>\n",
       "      <th>work_id</th>\n",
       "      <td>2792775</td>\n",
       "      <td>4640799</td>\n",
       "      <td>3212258</td>\n",
       "    </tr>\n",
       "    <tr>\n",
       "      <th>work_ratings_count</th>\n",
       "      <td>4942365</td>\n",
       "      <td>4800065</td>\n",
       "      <td>3916824</td>\n",
       "    </tr>\n",
       "    <tr>\n",
       "      <th>work_text_reviews_count</th>\n",
       "      <td>155254</td>\n",
       "      <td>75867</td>\n",
       "      <td>95009</td>\n",
       "    </tr>\n",
       "    <tr>\n",
       "      <th>authors_2</th>\n",
       "      <td>['Suzanne Collins']</td>\n",
       "      <td>['J.K. Rowling', 'Mary GrandPré']</td>\n",
       "      <td>['Stephenie Meyer']</td>\n",
       "    </tr>\n",
       "  </tbody>\n",
       "</table>\n",
       "</div>"
      ],
      "text/plain": [
       "                                                                           0  \\\n",
       "index                                                                      0   \n",
       "authors                                                  ['Suzanne Collins']   \n",
       "average_rating                                                          4.34   \n",
       "best_book_id                                                         2767052   \n",
       "book_id                                                                    1   \n",
       "books_count                                                              272   \n",
       "description                WINNING MEANS FAME AND FORTUNE.LOSING MEANS CE...   \n",
       "genres                     [young-adult, fiction, fantasy, science-fictio...   \n",
       "goodreads_book_id                                                    2767052   \n",
       "image_url                  https://images.gr-assets.com/books/1447303603m...   \n",
       "isbn                                                               439023483   \n",
       "isbn13                                                      9780439023480.00   \n",
       "language_code                                                            eng   \n",
       "original_publication_year                                            2008.00   \n",
       "original_title                                              The Hunger Games   \n",
       "pages                                                                 374.00   \n",
       "publishDate                                                         09/14/08   \n",
       "ratings_1                                                              66715   \n",
       "ratings_2                                                             127936   \n",
       "ratings_3                                                             560092   \n",
       "ratings_4                                                            1481305   \n",
       "ratings_5                                                            2706317   \n",
       "ratings_count                                                        4780653   \n",
       "small_image_url            https://images.gr-assets.com/books/1447303603s...   \n",
       "title                                The Hunger Games (The Hunger Games, #1)   \n",
       "work_id                                                              2792775   \n",
       "work_ratings_count                                                   4942365   \n",
       "work_text_reviews_count                                               155254   \n",
       "authors_2                                                ['Suzanne Collins']   \n",
       "\n",
       "                                                                           1  \\\n",
       "index                                                                      1   \n",
       "authors                                    ['J.K. Rowling', 'Mary GrandPré']   \n",
       "average_rating                                                          4.44   \n",
       "best_book_id                                                               3   \n",
       "book_id                                                                    2   \n",
       "books_count                                                              491   \n",
       "description                Harry Potter's life is miserable. His parents ...   \n",
       "genres                             [fantasy, fiction, young-adult, classics]   \n",
       "goodreads_book_id                                                          3   \n",
       "image_url                  https://images.gr-assets.com/books/1474154022m...   \n",
       "isbn                                                               439554934   \n",
       "isbn13                                                      9780439554930.00   \n",
       "language_code                                                            eng   \n",
       "original_publication_year                                            1997.00   \n",
       "original_title                      Harry Potter and the Philosopher's Stone   \n",
       "pages                                                                 309.00   \n",
       "publishDate                                                         11/01/03   \n",
       "ratings_1                                                              75504   \n",
       "ratings_2                                                             101676   \n",
       "ratings_3                                                             455024   \n",
       "ratings_4                                                            1156318   \n",
       "ratings_5                                                            3011543   \n",
       "ratings_count                                                        4602479   \n",
       "small_image_url            https://images.gr-assets.com/books/1474154022s...   \n",
       "title                      Harry Potter and the Sorcerer's Stone (Harry P...   \n",
       "work_id                                                              4640799   \n",
       "work_ratings_count                                                   4800065   \n",
       "work_text_reviews_count                                                75867   \n",
       "authors_2                                  ['J.K. Rowling', 'Mary GrandPré']   \n",
       "\n",
       "                                                                           2  \n",
       "index                                                                      2  \n",
       "authors                                                  ['Stephenie Meyer']  \n",
       "average_rating                                                          3.57  \n",
       "best_book_id                                                           41865  \n",
       "book_id                                                                    3  \n",
       "books_count                                                              226  \n",
       "description                About three things I was absolutely positive.\\...  \n",
       "genres                     [young-adult, fantasy, romance, fiction, paran...  \n",
       "goodreads_book_id                                                      41865  \n",
       "image_url                  https://images.gr-assets.com/books/1361039443m...  \n",
       "isbn                                                               316015849  \n",
       "isbn13                                                      9780316015840.00  \n",
       "language_code                                                            eng  \n",
       "original_publication_year                                            2005.00  \n",
       "original_title                                                      Twilight  \n",
       "pages                                                                 501.00  \n",
       "publishDate                                                         09/06/06  \n",
       "ratings_1                                                             456191  \n",
       "ratings_2                                                             436802  \n",
       "ratings_3                                                             793319  \n",
       "ratings_4                                                             875073  \n",
       "ratings_5                                                            1355439  \n",
       "ratings_count                                                        3866839  \n",
       "small_image_url            https://images.gr-assets.com/books/1361039443s...  \n",
       "title                                                Twilight (Twilight, #1)  \n",
       "work_id                                                              3212258  \n",
       "work_ratings_count                                                   3916824  \n",
       "work_text_reviews_count                                                95009  \n",
       "authors_2                                                ['Stephenie Meyer']  "
      ]
     },
     "execution_count": 1,
     "metadata": {},
     "output_type": "execute_result"
    }
   ],
   "source": [
    "import pandas as pd\n",
    "from ast import literal_eval\n",
    "\n",
    "# Set the float format\n",
    "pd.options.display.float_format = '{:.2f}'.format\n",
    "\n",
    "# Import data from the goodbooks-10k repo\n",
    "books_df = pd.read_csv('https://raw.githubusercontent.com/malcolmosh/goodbooks-10k/master/books_enriched.csv', index_col=[0], converters={\"genres\": literal_eval})\n",
    "books_ratings = pd.read_csv('https://raw.githubusercontent.com/malcolmosh/goodbooks-10k/master/ratings.csv')\n",
    "\n",
    "# Display three entries\n",
    "books_df.head(3).T"
   ]
  },
  {
   "cell_type": "code",
   "execution_count": 2,
   "metadata": {},
   "outputs": [
    {
     "name": "stdout",
     "output_type": "stream",
     "text": [
      "Empty DataFrame\n",
      "Columns: [title, genres]\n",
      "Index: []\n"
     ]
    }
   ],
   "source": [
    "# See what genres are numbers\n",
    "non_list_entries = books_df[~books_df['genres'].apply(lambda x: isinstance(x, list))]\n",
    "print(non_list_entries[['title', 'genres']])"
   ]
  },
  {
   "cell_type": "code",
   "execution_count": 3,
   "metadata": {},
   "outputs": [
    {
     "name": "stdout",
     "output_type": "stream",
     "text": [
      "8199    Island of the Blue Dolphins (Island of the Blu...\n",
      "5658                        The Complete Poetry and Prose\n",
      "6637                                    Mornings in Jenin\n",
      "594                                                 Heidi\n",
      "2900         The High King (The Chronicles of Prydain #5)\n",
      "5143    First They Killed My Father: A Daughter of Cam...\n",
      "4044                        The Never War (Pendragon, #3)\n",
      "110     Wicked: The Life and Times of the Wicked Witch...\n",
      "2253                     Princeps' Fury (Codex Alera, #5)\n",
      "8278                                      The Vacationers\n",
      "Name: title, dtype: object\n"
     ]
    }
   ],
   "source": [
    "print(books_df['title'].sample(10))"
   ]
  },
  {
   "cell_type": "markdown",
   "metadata": {},
   "source": [
    "Preprocessing\n",
    "We're going to keep the following columns.\n",
    "\n",
    "authors\n",
    "average_rating\n",
    "genres\n",
    "language_code\n",
    "title\n",
    "description"
   ]
  },
  {
   "cell_type": "code",
   "execution_count": 4,
   "metadata": {},
   "outputs": [
    {
     "name": "stderr",
     "output_type": "stream",
     "text": [
      "C:\\Users\\DELL\\AppData\\Local\\Temp\\ipykernel_8740\\1097865521.py:9: SettingWithCopyWarning: \n",
      "A value is trying to be set on a copy of a slice from a DataFrame.\n",
      "Try using .loc[row_indexer,col_indexer] = value instead\n",
      "\n",
      "See the caveats in the documentation: https://pandas.pydata.org/pandas-docs/stable/user_guide/indexing.html#returning-a-view-versus-a-copy\n",
      "  books_df_subset['author'] = books_df_subset['authors'].apply(lambda x: x[0]).astype(str)\n"
     ]
    }
   ],
   "source": [
    "# Columns of the dataset we are interested in for this model\n",
    "columns_to_keep = \\\n",
    "  ['authors', 'average_rating', 'genres', 'language_code', 'title', 'description']\n",
    "\n",
    "# Subset of the dataset with only the above columns\n",
    "books_df_subset = books_df[columns_to_keep]\n",
    "\n",
    "# Extract the first author of the authors list and use it.\n",
    "books_df_subset['author'] = books_df_subset['authors'].apply(lambda x: x[0]).astype(str)\n",
    "# Count of unique authors"
   ]
  },
  {
   "cell_type": "code",
   "execution_count": 5,
   "metadata": {},
   "outputs": [
    {
     "name": "stderr",
     "output_type": "stream",
     "text": [
      "C:\\Users\\DELL\\AppData\\Local\\Temp\\ipykernel_8740\\3883878986.py:2: SettingWithCopyWarning: \n",
      "A value is trying to be set on a copy of a slice from a DataFrame.\n",
      "Try using .loc[row_indexer,col_indexer] = value instead\n",
      "\n",
      "See the caveats in the documentation: https://pandas.pydata.org/pandas-docs/stable/user_guide/indexing.html#returning-a-view-versus-a-copy\n",
      "  books_df_subset['description'] = books_df_subset['description'].fillna('')\n",
      "C:\\Users\\DELL\\AppData\\Local\\Temp\\ipykernel_8740\\3883878986.py:5: SettingWithCopyWarning: \n",
      "A value is trying to be set on a copy of a slice from a DataFrame.\n",
      "Try using .loc[row_indexer,col_indexer] = value instead\n",
      "\n",
      "See the caveats in the documentation: https://pandas.pydata.org/pandas-docs/stable/user_guide/indexing.html#returning-a-view-versus-a-copy\n",
      "  books_df_subset['title'] = books_df_subset['title'].fillna('')\n"
     ]
    }
   ],
   "source": [
    "# Remove NaNs from the description column\n",
    "books_df_subset['description'] = books_df_subset['description'].fillna('')\n",
    "\n",
    "# Remove NaNs from the original_title column\n",
    "books_df_subset['title'] = books_df_subset['title'].fillna('')"
   ]
  },
  {
   "cell_type": "markdown",
   "metadata": {},
   "source": [
    "Feature extraction"
   ]
  },
  {
   "cell_type": "code",
   "execution_count": 6,
   "metadata": {},
   "outputs": [
    {
     "ename": "NameError",
     "evalue": "name 'count_of_unique_authors' is not defined",
     "output_type": "error",
     "traceback": [
      "\u001b[1;31m---------------------------------------------------------------------------\u001b[0m",
      "\u001b[1;31mNameError\u001b[0m                                 Traceback (most recent call last)",
      "Cell \u001b[1;32mIn[6], line 6\u001b[0m\n\u001b[0;32m      3\u001b[0m \u001b[38;5;28;01mfrom\u001b[39;00m \u001b[38;5;21;01msklearn\u001b[39;00m\u001b[38;5;21;01m.\u001b[39;00m\u001b[38;5;21;01mpreprocessing\u001b[39;00m \u001b[38;5;28;01mimport\u001b[39;00m MultiLabelBinarizer\n\u001b[0;32m      5\u001b[0m vectorizer \u001b[38;5;241m=\u001b[39m TfidfVectorizer()\n\u001b[1;32m----> 6\u001b[0m hasher \u001b[38;5;241m=\u001b[39m FeatureHasher(n_features\u001b[38;5;241m=\u001b[39mcount_of_unique_authors, input_type\u001b[38;5;241m=\u001b[39m\u001b[38;5;124m'\u001b[39m\u001b[38;5;124mstring\u001b[39m\u001b[38;5;124m'\u001b[39m)\n\u001b[0;32m      7\u001b[0m mlb \u001b[38;5;241m=\u001b[39m MultiLabelBinarizer()\n\u001b[0;32m      9\u001b[0m \u001b[38;5;66;03m# Hash the authors\u001b[39;00m\n\u001b[0;32m     10\u001b[0m \u001b[38;5;66;03m#author_features = hasher.transform(books_df_subset['author'])\u001b[39;00m\n\u001b[0;32m     11\u001b[0m \n\u001b[0;32m     12\u001b[0m \u001b[38;5;66;03m# Binarize the genres column\u001b[39;00m\n",
      "\u001b[1;31mNameError\u001b[0m: name 'count_of_unique_authors' is not defined"
     ]
    }
   ],
   "source": [
    "from sklearn.feature_extraction.text import TfidfVectorizer\n",
    "from sklearn.feature_extraction import FeatureHasher\n",
    "from sklearn.preprocessing import MultiLabelBinarizer\n",
    "\n",
    "vectorizer = TfidfVectorizer()\n",
    "hasher = FeatureHasher(n_features=count_of_unique_authors, input_type='string')\n",
    "mlb = MultiLabelBinarizer()\n",
    "\n",
    "# Hash the authors\n",
    "#author_features = hasher.transform(books_df_subset['author'])\n",
    "\n",
    "# Binarize the genres column\n",
    "binarized_genres = mlb.fit_transform(books_df_subset['genres'])\n",
    "\n",
    "# One-hot encode the language_code\n",
    "books_df_subset = pd.get_dummies(books_df_subset, columns=['language_code'])\n",
    "\n",
    "# Vectorize the title column\n",
    "title_features  = vectorizer.fit_transform(books_df_subset['title'])\n",
    "\n",
    "# Vectorize the description column\n",
    "description_features = vectorizer.fit_transform(books_df_subset['description'])"
   ]
  },
  {
   "cell_type": "code",
   "execution_count": 7,
   "metadata": {},
   "outputs": [
    {
     "ename": "NameError",
     "evalue": "name 'binarized_genres' is not defined",
     "output_type": "error",
     "traceback": [
      "\u001b[1;31m---------------------------------------------------------------------------\u001b[0m",
      "\u001b[1;31mNameError\u001b[0m                                 Traceback (most recent call last)",
      "Cell \u001b[1;32mIn[7], line 4\u001b[0m\n\u001b[0;32m      1\u001b[0m \u001b[38;5;28;01mfrom\u001b[39;00m \u001b[38;5;21;01mscipy\u001b[39;00m\u001b[38;5;21;01m.\u001b[39;00m\u001b[38;5;21;01msparse\u001b[39;00m \u001b[38;5;28;01mimport\u001b[39;00m hstack\n\u001b[0;32m      3\u001b[0m \u001b[38;5;66;03m# Composite feature Vector\u001b[39;00m\n\u001b[1;32m----> 4\u001b[0m composite_feature_vector \u001b[38;5;241m=\u001b[39m hstack([binarized_genres, title_features, description_features])\n",
      "\u001b[1;31mNameError\u001b[0m: name 'binarized_genres' is not defined"
     ]
    }
   ],
   "source": [
    "from scipy.sparse import hstack\n",
    "\n",
    "# Composite feature Vector\n",
    "composite_feature_vector = hstack([binarized_genres, title_features, description_features])"
   ]
  },
  {
   "cell_type": "markdown",
   "metadata": {},
   "source": [
    "Similarity measure"
   ]
  },
  {
   "cell_type": "markdown",
   "metadata": {},
   "source": [
    "Cosine similarity"
   ]
  },
  {
   "cell_type": "code",
   "execution_count": null,
   "metadata": {},
   "outputs": [],
   "source": [
    "from sklearn.metrics.pairwise import cosine_similarity\n",
    "cosine_sim = cosine_similarity(composite_feature_vector)"
   ]
  },
  {
   "cell_type": "markdown",
   "metadata": {},
   "source": [
    "Euclidean measure"
   ]
  },
  {
   "cell_type": "code",
   "execution_count": null,
   "metadata": {},
   "outputs": [],
   "source": [
    "from sklearn.metrics.pairwise import cosine_similarity\n",
    "cosine_sim = cosine_similarity(composite_feature_vector)"
   ]
  },
  {
   "cell_type": "markdown",
   "metadata": {},
   "source": [
    "Manhattan distance"
   ]
  },
  {
   "cell_type": "code",
   "execution_count": null,
   "metadata": {},
   "outputs": [],
   "source": [
    "from sklearn.metrics.pairwise import manhattan_distances\n",
    "manhattan_dist = manhattan_distances(composite_feature_vector)"
   ]
  },
  {
   "cell_type": "markdown",
   "metadata": {},
   "source": [
    "Jaccard Similarity"
   ]
  },
  {
   "cell_type": "code",
   "execution_count": null,
   "metadata": {},
   "outputs": [],
   "source": [
    "from sklearn.metrics import jaccard_score\n",
    "import numpy as np\n",
    "\n",
    "composite_feature_vector = composite_feature_vector.toarray()\n",
    "# Note: jaccard_score works a bit differently, so loop over pairs of rows in your data\n",
    "jaccard_sim = \\\n",
    " [jaccard_score(composite_feature_vector[i], composite_feature_vector[j]) for i in range(composite_feature_vector.shape[0]) for j in range(composite_feature_vector.shape[0])]"
   ]
  },
  {
   "cell_type": "markdown",
   "metadata": {},
   "source": [
    "Test"
   ]
  },
  {
   "cell_type": "code",
   "execution_count": null,
   "metadata": {},
   "outputs": [],
   "source": [
    "indices = pd.Series(books_df_subset.index, index=books_df_subset['title']).drop_duplicates()"
   ]
  },
  {
   "cell_type": "code",
   "execution_count": null,
   "metadata": {},
   "outputs": [],
   "source": [
    "def recommend_items(title, cosine_sim=cosine_sim):\n",
    "    # Get the index of the item that matches the title\n",
    "    idx = indices[title]\n",
    "\n",
    "    # Get the pairwsie similarity scores of all items with that item\n",
    "    sim_scores = list(enumerate(cosine_sim[idx]))\n",
    "\n",
    "    # Sort the items based on the similarity scores\n",
    "    sim_scores = sorted(sim_scores, key=lambda x: x[1], reverse=True)\n",
    "\n",
    "    # Get the scores of the 10 most similar items\n",
    "    sim_scores = sim_scores[1:11]\n",
    "\n",
    "    # Get the item indices\n",
    "    item_indices = [i[0] for i in sim_scores]\n",
    "\n",
    "    # Return the top 10 most similar items\n",
    "    return books_df_subset['title'].iloc[item_indices]"
   ]
  }
 ],
 "metadata": {
  "kernelspec": {
   "display_name": "base",
   "language": "python",
   "name": "python3"
  },
  "language_info": {
   "codemirror_mode": {
    "name": "ipython",
    "version": 3
   },
   "file_extension": ".py",
   "mimetype": "text/x-python",
   "name": "python",
   "nbconvert_exporter": "python",
   "pygments_lexer": "ipython3",
   "version": "3.11.7"
  }
 },
 "nbformat": 4,
 "nbformat_minor": 2
}
